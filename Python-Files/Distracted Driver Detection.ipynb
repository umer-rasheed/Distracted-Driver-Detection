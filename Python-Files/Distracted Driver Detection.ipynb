{
 "cells": [
  {
   "cell_type": "markdown",
   "metadata": {},
   "source": [
    "### Distracted Driver Detection"
   ]
  },
  {
   "cell_type": "markdown",
   "metadata": {},
   "source": [
    "#### Import Modules"
   ]
  },
  {
   "cell_type": "code",
   "execution_count": 1,
   "metadata": {},
   "outputs": [],
   "source": [
    "# IMPORT MODULES\n",
    "# Import Sys, Remove Path\n",
    "import sys\n",
    "sys.path.remove('/opt/ros/kinetic/lib/python2.7/dist-packages')"
   ]
  },
  {
   "cell_type": "code",
   "execution_count": 56,
   "metadata": {
    "_cell_guid": "b1076dfc-b9ad-4769-8c92-a6c4dae69d19",
    "_uuid": "8f2839f25d086af736a60e9eeb907d3b93b6e0e5"
   },
   "outputs": [
    {
     "name": "stdout",
     "output_type": "stream",
     "text": [
      "['imgs.zip', 'driver_imgs_list.csv', 'imgs', 'sample_submission.csv']\n"
     ]
    }
   ],
   "source": [
    "# IMPORT MODULES\n",
    "# Import Numpy, Keras and OpenCV etc\n",
    "import numpy as np \n",
    "import pickle\n",
    "import datetime\n",
    "import pandas as pd\n",
    "from sklearn.model_selection import train_test_split\n",
    "from sklearn.model_selection import KFold\n",
    "from keras.models import Sequential, Input\n",
    "from keras import layers\n",
    "from keras.layers.core import Dense, Dropout, Flatten\n",
    "from keras.layers.convolutional import Convolution2D, MaxPooling2D, \\\n",
    "                                       ZeroPadding2D,Conv2D\n",
    "from keras.utils import to_categorical\n",
    "from keras.layers.normalization import BatchNormalization\n",
    "from keras.optimizers import Adam\n",
    "from keras.optimizers import SGD\n",
    "from keras.utils import np_utils\n",
    "from keras.models import model_from_json\n",
    "from numpy.random import permutation\n",
    "import keras\n",
    "import keras.backend as K \n",
    "from keras.models import Model\n",
    "from keras.layers import Dense, Dropout, Add, Input, BatchNormalization, Activation\n",
    "from keras.layers import  Conv2D, MaxPooling2D, AveragePooling2D, Flatten\n",
    "from keras.regularizers import l2\n",
    "from keras.initializers import glorot_uniform\n",
    "import cv2\n",
    "import matplotlib.pyplot as plt\n",
    "import glob\n",
    "import os\n",
    "print(os.listdir(\"../Data/Unzipped-Data/\"))\n",
    "%matplotlib inline"
   ]
  },
  {
   "cell_type": "markdown",
   "metadata": {},
   "source": [
    "#### Load Data"
   ]
  },
  {
   "cell_type": "code",
   "execution_count": 3,
   "metadata": {
    "_uuid": "3b048fe573382e8dad5903b8757af5e6fe0689e6"
   },
   "outputs": [],
   "source": [
    "# LOAD DATA\n",
    "# Initialize\n",
    "img_rows = 160\n",
    "img_cols = 120"
   ]
  },
  {
   "cell_type": "code",
   "execution_count": 4,
   "metadata": {
    "_cell_guid": "79c7e3d0-c299-4dcb-8224-4455121ee9b0",
    "_uuid": "d629ff2d2480ee46fbb7e2d37f6b5fab8052498a"
   },
   "outputs": [],
   "source": [
    "# LOAD DATA\n",
    "# Read CSV File\n",
    "df = pd.read_csv(\"../Data/Unzipped-Data/driver_imgs_list.csv\")"
   ]
  },
  {
   "cell_type": "code",
   "execution_count": 5,
   "metadata": {
    "_uuid": "82a3d23769df1a5a434ec5a210be52ec1a07d6bd"
   },
   "outputs": [
    {
     "data": {
      "text/html": [
       "<div>\n",
       "<style scoped>\n",
       "    .dataframe tbody tr th:only-of-type {\n",
       "        vertical-align: middle;\n",
       "    }\n",
       "\n",
       "    .dataframe tbody tr th {\n",
       "        vertical-align: top;\n",
       "    }\n",
       "\n",
       "    .dataframe thead th {\n",
       "        text-align: right;\n",
       "    }\n",
       "</style>\n",
       "<table border=\"1\" class=\"dataframe\">\n",
       "  <thead>\n",
       "    <tr style=\"text-align: right;\">\n",
       "      <th></th>\n",
       "      <th>subject</th>\n",
       "      <th>classname</th>\n",
       "      <th>img</th>\n",
       "    </tr>\n",
       "  </thead>\n",
       "  <tbody>\n",
       "    <tr>\n",
       "      <th>0</th>\n",
       "      <td>p002</td>\n",
       "      <td>c0</td>\n",
       "      <td>img_44733.jpg</td>\n",
       "    </tr>\n",
       "    <tr>\n",
       "      <th>1</th>\n",
       "      <td>p002</td>\n",
       "      <td>c0</td>\n",
       "      <td>img_72999.jpg</td>\n",
       "    </tr>\n",
       "    <tr>\n",
       "      <th>2</th>\n",
       "      <td>p002</td>\n",
       "      <td>c0</td>\n",
       "      <td>img_25094.jpg</td>\n",
       "    </tr>\n",
       "    <tr>\n",
       "      <th>3</th>\n",
       "      <td>p002</td>\n",
       "      <td>c0</td>\n",
       "      <td>img_69092.jpg</td>\n",
       "    </tr>\n",
       "    <tr>\n",
       "      <th>4</th>\n",
       "      <td>p002</td>\n",
       "      <td>c0</td>\n",
       "      <td>img_92629.jpg</td>\n",
       "    </tr>\n",
       "  </tbody>\n",
       "</table>\n",
       "</div>"
      ],
      "text/plain": [
       "  subject classname            img\n",
       "0    p002        c0  img_44733.jpg\n",
       "1    p002        c0  img_72999.jpg\n",
       "2    p002        c0  img_25094.jpg\n",
       "3    p002        c0  img_69092.jpg\n",
       "4    p002        c0  img_92629.jpg"
      ]
     },
     "execution_count": 5,
     "metadata": {},
     "output_type": "execute_result"
    }
   ],
   "source": [
    "# LOAD DATA\n",
    "# Print\n",
    "df.head()"
   ]
  },
  {
   "cell_type": "code",
   "execution_count": 45,
   "metadata": {
    "_uuid": "304aaf935e89485312d1ea910d97f7e30d421adb"
   },
   "outputs": [],
   "source": [
    "# LOAD DATA\n",
    "# Define a Function to Load Image\n",
    "def load_image(path, rows=None, cols=None, gray=True):\n",
    "    if gray:\n",
    "        img = cv2.imread(path,0)\n",
    "    else:\n",
    "        img = cv2.imread(path)\n",
    "    img = cv2.resize(img,(160,120))\n",
    "    return img"
   ]
  },
  {
   "cell_type": "code",
   "execution_count": 46,
   "metadata": {},
   "outputs": [
    {
     "data": {
      "text/plain": [
       "<matplotlib.image.AxesImage at 0x7fa78849a748>"
      ]
     },
     "execution_count": 46,
     "metadata": {},
     "output_type": "execute_result"
    },
    {
     "data": {
      "image/png": "[encoded data removed]",
      "text/plain": [
       "<Figure size 432x288 with 1 Axes>"
      ]
     },
     "metadata": {
      "needs_background": "light"
     },
     "output_type": "display_data"
    }
   ],
   "source": [
    "# LOAD DATA\n",
    "# Load a Random Image\n",
    "filename = \"../Data/Unzipped-Data/imgs/train/c0/img_34.jpg\"\n",
    "image = load_image(filename, rows=None, cols=None, gray=False)\n",
    "\n",
    "# Plot\n",
    "plt.imshow(image)"
   ]
  },
  {
   "cell_type": "code",
   "execution_count": 8,
   "metadata": {
    "_uuid": "16fe1197faf05ab7a36daa7cd8aff768838dc3ef"
   },
   "outputs": [],
   "source": [
    "# LOAD DATA\n",
    "# Define a Function to Load Data\n",
    "def load_data(split=0.33, rows=None, cols=None):\n",
    "    paths = glob.glob(os.path.join(\"../Data/Unzipped-Data/imgs/\", \"train\", \"*\",  \"*.jpg\"))\n",
    "    labels = [int(x.split('/')[5][1]) for x in paths]\n",
    "    if rows != None and cols != None:\n",
    "        images = [load_image(x, rows, cols,gray=False) for x in paths]\n",
    "    else:\n",
    "        images = [load_image(x, gray=False) for x in paths]\n",
    "    y = to_categorical(labels)\n",
    "    x_train, x_test, y_train, y_test = train_test_split(images, y, test_size=split)\n",
    "    \n",
    "    return np.array(x_train), np.array(x_test), y_train, y_test"
   ]
  },
  {
   "cell_type": "code",
   "execution_count": 9,
   "metadata": {
    "_uuid": "affa14255e176a7c3489060c6ad0165490e3b439"
   },
   "outputs": [],
   "source": [
    "# LOAD Data\n",
    "# Load Training and Testing Dataset\n",
    "x_train, x_test, y_train, y_test = load_data(rows=img_rows, cols=img_cols)"
   ]
  },
  {
   "cell_type": "markdown",
   "metadata": {},
   "source": [
    "#### Define Model"
   ]
  },
  {
   "cell_type": "code",
   "execution_count": 59,
   "metadata": {},
   "outputs": [],
   "source": [
    "# Define Model\n",
    "# Define Identity Block\n",
    "def IdentityBlock(X,F,Filters,Stage,Block):    \n",
    "    # Defining Name Basis\n",
    "    ConvNameBase='Res'+str(Stage)+Block+'_Branch'\n",
    "    BnNameBase='Bn'+str(Stage)+Block+'_Branch'\n",
    "    \n",
    "    # Retrieve Filters\n",
    "    F1,F2,F3=Filters\n",
    "    \n",
    "    # Save the Input Value \n",
    "    XShortcut=X\n",
    "    \n",
    "    # First Component of Main Path\n",
    "    X=Conv2D(filters=F1,kernel_size=(1,1),strides=(1,1),padding='valid',name=ConvNameBase+'2a',kernel_initializer=glorot_uniform(seed=0))(X)\n",
    "    X=BatchNormalization(axis=3,name=BnNameBase+'2a')(X)\n",
    "    X=Activation('relu')(X)\n",
    "\n",
    "    # Second Component of Main Path\n",
    "    X=Conv2D(filters=F2,kernel_size=(F,F),strides=(1,1),padding='same',name=ConvNameBase+'2b',kernel_initializer=glorot_uniform(seed=0))(X)\n",
    "    X=BatchNormalization(axis=3,name=BnNameBase+'2b')(X)\n",
    "    X=Activation('relu')(X)\n",
    "\n",
    "    # Third component of Main Path\n",
    "    X=Conv2D(filters=F3,kernel_size=(1,1),strides=(1,1),padding='valid',name=ConvNameBase+'2c',kernel_initializer=glorot_uniform(seed=0))(X)\n",
    "    X=BatchNormalization(axis=3,name=BnNameBase+'2c')(X)\n",
    "\n",
    "    # Add Shortcut Value to Main Path, and Pass it through a RELU Activation\n",
    "    X=Add()([X,XShortcut])\n",
    "    X=Activation('relu')(X)\n",
    "    \n",
    "    # Return    \n",
    "    return X"
   ]
  },
  {
   "cell_type": "code",
   "execution_count": 60,
   "metadata": {},
   "outputs": [],
   "source": [
    "# DEFINE MODEL\n",
    "# Define Convolutional Block\n",
    "def ConvolutionalBlock(X,F,Filters,Stage,Block,S=2):    \n",
    "    # Defining Name Basis\n",
    "    ConvNameBase='Res'+str(Stage)+Block+'_Branch'\n",
    "    BnNameBase='Bn'+str(Stage)+Block+'_Branch'\n",
    "    \n",
    "    # Retrieve Filters\n",
    "    F1,F2,F3=Filters\n",
    "    \n",
    "    # Save the Input Value \n",
    "    XShortcut=X\n",
    "\n",
    "    # First Component of Main Path \n",
    "    X=Conv2D(F1,(1,1),strides=(S,S),name=ConvNameBase+'2a',kernel_initializer=glorot_uniform(seed=0))(X)\n",
    "    X=BatchNormalization(axis=3,name=BnNameBase+'2a')(X)\n",
    "    X= Activation('relu')(X)\n",
    "    \n",
    "    # Second Component of Main Path\n",
    "    X=Conv2D(F2,(F,F),strides=(1,1),padding='same',name=ConvNameBase+'2b',kernel_initializer=glorot_uniform(seed=0))(X)\n",
    "    X=BatchNormalization(axis=3,name=BnNameBase+'2b')(X)\n",
    "    X=Activation('relu')(X)\n",
    "\n",
    "    # Third component of Main Path\n",
    "    X=Conv2D(F3,(1,1),strides=(1,1),name=ConvNameBase+'2c',kernel_initializer=glorot_uniform(seed=0))(X)\n",
    "    X=BatchNormalization(axis=3,name=BnNameBase+'2c')(X)\n",
    "\n",
    "    # Shortcut Path\n",
    "    XShortcut=Conv2D(F3,(1,1),strides=(S,S),name =ConvNameBase+'1',kernel_initializer=glorot_uniform(seed=0))(XShortcut)\n",
    "    XShortcut=BatchNormalization(axis=3,name=BnNameBase+'1')(XShortcut)\n",
    "  \n",
    "    # Add Shortcut Value to Main Path, and Pass it through a RELU Activation\n",
    "    X=Add()([X,XShortcut])\n",
    "    X=Activation('relu')(X)\n",
    "    \n",
    "    # Return\n",
    "    return X"
   ]
  },
  {
   "cell_type": "code",
   "execution_count": 61,
   "metadata": {},
   "outputs": [],
   "source": [
    "# RESNET50 MODEL\n",
    "# Define ResNet50 Model\n",
    "def ResNet50(InputShape=(64,64,3),Classes=6):    \n",
    "    # Define the Input as a Tensor\n",
    "    XInput=Input(InputShape)\n",
    "    \n",
    "    # Zero-Padding\n",
    "    X=ZeroPadding2D((3,3))(XInput)\n",
    "    \n",
    "    # Stage 1\n",
    "    X=Conv2D(64,(7,7),strides=(2,2),name='conv1',kernel_initializer=glorot_uniform(seed=0))(X)\n",
    "    X=BatchNormalization(axis=3,name='bn_conv1')(X)\n",
    "    X=Activation('relu')(X)\n",
    "    X=MaxPooling2D((3,3),strides=(2,2))(X)\n",
    "\n",
    "    # Stage 2\n",
    "    X=ConvolutionalBlock(X,F=3,Filters=[64,64,256],Stage=2,Block='a',S=1)\n",
    "    X=IdentityBlock(X,3,[64,64,256],Stage=2,Block='b')\n",
    "    X=IdentityBlock(X,3,[64,64,256],Stage=2,Block='c')\n",
    "\n",
    "    # Stage 3 \n",
    "    X=ConvolutionalBlock(X,F=3,Filters=[128,128,512],Stage=3,Block='a',S=2)\n",
    "    X=IdentityBlock(X,3,[128,128,512],Stage=3,Block='b')\n",
    "    X=IdentityBlock(X,3,[128,128,512],Stage=3,Block='c')\n",
    "    X=IdentityBlock(X,3,[128,128,512],Stage=3,Block='d')\n",
    "\n",
    "    # Stage 4 (≈6 lines)\n",
    "    X=ConvolutionalBlock(X, F = 3, Filters = [256, 256, 1024], Stage = 4, Block='a', S = 2)\n",
    "    X=IdentityBlock(X,3,[256,256,1024],Stage=4,Block='b')\n",
    "    X=IdentityBlock(X,3,[256,256,1024],Stage=4,Block='c')\n",
    "    X=IdentityBlock(X,3,[256,256,1024],Stage=4,Block='d')\n",
    "    X=IdentityBlock(X,3,[256,256,1024],Stage=4,Block='e')\n",
    "    X=IdentityBlock(X,3,[256,256,1024],Stage=4,Block='f')\n",
    "\n",
    "    # Stage 5 (≈3 lines)\n",
    "    X=ConvolutionalBlock(X,F=3,Filters=[512,512,2048],Stage=5,Block='a',S=2)\n",
    "    X=IdentityBlock(X,3,[512,512,2048],Stage=5,Block='b')\n",
    "    X=IdentityBlock(X,3,[512,512,2048],Stage=5,Block='c')\n",
    "\n",
    "    # AVGPOOL (≈1 line). Use \"X = AveragePooling2D(...)(X)\"\n",
    "    X=AveragePooling2D(pool_size=(2,2),name='avg_pool')(X)\n",
    "\n",
    "    # output layer\n",
    "    X=Flatten()(X)\n",
    "    X=Dense(Classes,activation='softmax',name='fc'+str(Classes),kernel_initializer=glorot_uniform(seed=0))(X)\n",
    "    \n",
    "    # Create model\n",
    "    ResNetModel=Model(inputs=XInput,outputs=X,name='ResNet50')\n",
    "\n",
    "    return ResNetModel"
   ]
  },
  {
   "cell_type": "markdown",
   "metadata": {},
   "source": [
    "#### Train Model"
   ]
  },
  {
   "cell_type": "code",
   "execution_count": 12,
   "metadata": {
    "_uuid": "cc16f1049131106c4f924c265e76803138f0103f"
   },
   "outputs": [
    {
     "data": {
      "text/plain": [
       "(120, 160, 3)"
      ]
     },
     "execution_count": 12,
     "metadata": {},
     "output_type": "execute_result"
    }
   ],
   "source": [
    "# TRAIN MODEL\n",
    "# Print Input Data Size\n",
    "print(x_train[0].shape)"
   ]
  },
  {
   "cell_type": "code",
   "execution_count": 17,
   "metadata": {
    "_uuid": "74d46dd606c4e48c534c26ddba567278502d0257"
   },
   "outputs": [],
   "source": [
    "# TRAIN MODEL\n",
    "# Initialize Model\n",
    "model = ResNet50(InputShape = (120, 160, 3), Classes=10)\n",
    "model.compile(\"adam\",\"categorical_crossentropy\", ['accuracy'])"
   ]
  },
  {
   "cell_type": "code",
   "execution_count": 63,
   "metadata": {
    "_uuid": "97b9ca7536713bae53ef60d18d54593545740212"
   },
   "outputs": [
    {
     "name": "stdout",
     "output_type": "stream",
     "text": [
      "____________________________________________________________________________________________________\n",
      "Layer (type)                     Output Shape          Param #     Connected to                     \n",
      "====================================================================================================\n",
      "input_6 (InputLayer)             (None, 120, 160, 3)   0                                            \n",
      "____________________________________________________________________________________________________\n",
      "zero_padding2d_3 (ZeroPadding2D) (None, 126, 166, 3)   0           input_6[0][0]                    \n",
      "____________________________________________________________________________________________________\n",
      "conv1 (Conv2D)                   (None, 60, 80, 64)    9472        zero_padding2d_3[0][0]           \n",
      "____________________________________________________________________________________________________\n",
      "bn_conv1 (BatchNormalization)    (None, 60, 80, 64)    256         conv1[0][0]                      \n",
      "____________________________________________________________________________________________________\n",
      "activation_41 (Activation)       (None, 60, 80, 64)    0           bn_conv1[0][0]                   \n",
      "____________________________________________________________________________________________________\n",
      "max_pooling2d_2 (MaxPooling2D)   (None, 29, 39, 64)    0           activation_41[0][0]              \n",
      "____________________________________________________________________________________________________\n",
      "Res2a_Branch2a (Conv2D)          (None, 29, 39, 64)    4160        max_pooling2d_2[0][0]            \n",
      "____________________________________________________________________________________________________\n",
      "Bn2a_Branch2a (BatchNormalizatio (None, 29, 39, 64)    256         Res2a_Branch2a[0][0]             \n",
      "____________________________________________________________________________________________________\n",
      "activation_42 (Activation)       (None, 29, 39, 64)    0           Bn2a_Branch2a[0][0]              \n",
      "____________________________________________________________________________________________________\n",
      "Res2a_Branch2b (Conv2D)          (None, 29, 39, 64)    36928       activation_42[0][0]              \n",
      "____________________________________________________________________________________________________\n",
      "Bn2a_Branch2b (BatchNormalizatio (None, 29, 39, 64)    256         Res2a_Branch2b[0][0]             \n",
      "____________________________________________________________________________________________________\n",
      "activation_43 (Activation)       (None, 29, 39, 64)    0           Bn2a_Branch2b[0][0]              \n",
      "____________________________________________________________________________________________________\n",
      "Res2a_Branch2c (Conv2D)          (None, 29, 39, 256)   16640       activation_43[0][0]              \n",
      "____________________________________________________________________________________________________\n",
      "Res2a_Branch1 (Conv2D)           (None, 29, 39, 256)   16640       max_pooling2d_2[0][0]            \n",
      "____________________________________________________________________________________________________\n",
      "Bn2a_Branch2c (BatchNormalizatio (None, 29, 39, 256)   1024        Res2a_Branch2c[0][0]             \n",
      "____________________________________________________________________________________________________\n",
      "Bn2a_Branch1 (BatchNormalization (None, 29, 39, 256)   1024        Res2a_Branch1[0][0]              \n",
      "____________________________________________________________________________________________________\n",
      "add_19 (Add)                     (None, 29, 39, 256)   0           Bn2a_Branch2c[0][0]              \n",
      "                                                                   Bn2a_Branch1[0][0]               \n",
      "____________________________________________________________________________________________________\n",
      "activation_44 (Activation)       (None, 29, 39, 256)   0           add_19[0][0]                     \n",
      "____________________________________________________________________________________________________\n",
      "Res2b_Branch2a (Conv2D)          (None, 29, 39, 64)    16448       activation_44[0][0]              \n",
      "____________________________________________________________________________________________________\n",
      "Bn2b_Branch2a (BatchNormalizatio (None, 29, 39, 64)    256         Res2b_Branch2a[0][0]             \n",
      "____________________________________________________________________________________________________\n",
      "activation_45 (Activation)       (None, 29, 39, 64)    0           Bn2b_Branch2a[0][0]              \n",
      "____________________________________________________________________________________________________\n",
      "Res2b_Branch2b (Conv2D)          (None, 29, 39, 64)    36928       activation_45[0][0]              \n",
      "____________________________________________________________________________________________________\n",
      "Bn2b_Branch2b (BatchNormalizatio (None, 29, 39, 64)    256         Res2b_Branch2b[0][0]             \n",
      "____________________________________________________________________________________________________\n",
      "activation_46 (Activation)       (None, 29, 39, 64)    0           Bn2b_Branch2b[0][0]              \n",
      "____________________________________________________________________________________________________\n",
      "Res2b_Branch2c (Conv2D)          (None, 29, 39, 256)   16640       activation_46[0][0]              \n",
      "____________________________________________________________________________________________________\n",
      "Bn2b_Branch2c (BatchNormalizatio (None, 29, 39, 256)   1024        Res2b_Branch2c[0][0]             \n",
      "____________________________________________________________________________________________________\n",
      "add_20 (Add)                     (None, 29, 39, 256)   0           Bn2b_Branch2c[0][0]              \n",
      "                                                                   activation_44[0][0]              \n",
      "____________________________________________________________________________________________________\n",
      "activation_47 (Activation)       (None, 29, 39, 256)   0           add_20[0][0]                     \n",
      "____________________________________________________________________________________________________\n",
      "Res2c_Branch2a (Conv2D)          (None, 29, 39, 64)    16448       activation_47[0][0]              \n",
      "____________________________________________________________________________________________________\n",
      "Bn2c_Branch2a (BatchNormalizatio (None, 29, 39, 64)    256         Res2c_Branch2a[0][0]             \n",
      "____________________________________________________________________________________________________\n",
      "activation_48 (Activation)       (None, 29, 39, 64)    0           Bn2c_Branch2a[0][0]              \n",
      "____________________________________________________________________________________________________\n",
      "Res2c_Branch2b (Conv2D)          (None, 29, 39, 64)    36928       activation_48[0][0]              \n",
      "____________________________________________________________________________________________________\n",
      "Bn2c_Branch2b (BatchNormalizatio (None, 29, 39, 64)    256         Res2c_Branch2b[0][0]             \n",
      "____________________________________________________________________________________________________\n",
      "activation_49 (Activation)       (None, 29, 39, 64)    0           Bn2c_Branch2b[0][0]              \n",
      "____________________________________________________________________________________________________\n",
      "Res2c_Branch2c (Conv2D)          (None, 29, 39, 256)   16640       activation_49[0][0]              \n",
      "____________________________________________________________________________________________________\n",
      "Bn2c_Branch2c (BatchNormalizatio (None, 29, 39, 256)   1024        Res2c_Branch2c[0][0]             \n",
      "____________________________________________________________________________________________________\n",
      "add_21 (Add)                     (None, 29, 39, 256)   0           Bn2c_Branch2c[0][0]              \n",
      "                                                                   activation_47[0][0]              \n",
      "____________________________________________________________________________________________________\n",
      "activation_50 (Activation)       (None, 29, 39, 256)   0           add_21[0][0]                     \n",
      "____________________________________________________________________________________________________\n",
      "Res3a_Branch2a (Conv2D)          (None, 15, 20, 128)   32896       activation_50[0][0]              \n",
      "____________________________________________________________________________________________________\n",
      "Bn3a_Branch2a (BatchNormalizatio (None, 15, 20, 128)   512         Res3a_Branch2a[0][0]             \n",
      "____________________________________________________________________________________________________\n",
      "activation_51 (Activation)       (None, 15, 20, 128)   0           Bn3a_Branch2a[0][0]              \n",
      "____________________________________________________________________________________________________\n",
      "Res3a_Branch2b (Conv2D)          (None, 15, 20, 128)   147584      activation_51[0][0]              \n",
      "____________________________________________________________________________________________________\n",
      "Bn3a_Branch2b (BatchNormalizatio (None, 15, 20, 128)   512         Res3a_Branch2b[0][0]             \n",
      "____________________________________________________________________________________________________\n",
      "activation_52 (Activation)       (None, 15, 20, 128)   0           Bn3a_Branch2b[0][0]              \n",
      "____________________________________________________________________________________________________\n",
      "Res3a_Branch2c (Conv2D)          (None, 15, 20, 512)   66048       activation_52[0][0]              \n",
      "____________________________________________________________________________________________________\n",
      "Res3a_Branch1 (Conv2D)           (None, 15, 20, 512)   131584      activation_50[0][0]              \n",
      "____________________________________________________________________________________________________\n",
      "Bn3a_Branch2c (BatchNormalizatio (None, 15, 20, 512)   2048        Res3a_Branch2c[0][0]             \n",
      "____________________________________________________________________________________________________\n",
      "Bn3a_Branch1 (BatchNormalization (None, 15, 20, 512)   2048        Res3a_Branch1[0][0]              \n",
      "____________________________________________________________________________________________________\n",
      "add_22 (Add)                     (None, 15, 20, 512)   0           Bn3a_Branch2c[0][0]              \n",
      "                                                                   Bn3a_Branch1[0][0]               \n",
      "____________________________________________________________________________________________________\n",
      "activation_53 (Activation)       (None, 15, 20, 512)   0           add_22[0][0]                     \n",
      "____________________________________________________________________________________________________\n",
      "Res3b_Branch2a (Conv2D)          (None, 15, 20, 128)   65664       activation_53[0][0]              \n",
      "____________________________________________________________________________________________________\n",
      "Bn3b_Branch2a (BatchNormalizatio (None, 15, 20, 128)   512         Res3b_Branch2a[0][0]             \n",
      "____________________________________________________________________________________________________\n",
      "activation_54 (Activation)       (None, 15, 20, 128)   0           Bn3b_Branch2a[0][0]              \n",
      "____________________________________________________________________________________________________\n",
      "Res3b_Branch2b (Conv2D)          (None, 15, 20, 128)   147584      activation_54[0][0]              \n",
      "____________________________________________________________________________________________________\n",
      "Bn3b_Branch2b (BatchNormalizatio (None, 15, 20, 128)   512         Res3b_Branch2b[0][0]             \n",
      "____________________________________________________________________________________________________\n",
      "activation_55 (Activation)       (None, 15, 20, 128)   0           Bn3b_Branch2b[0][0]              \n",
      "____________________________________________________________________________________________________\n",
      "Res3b_Branch2c (Conv2D)          (None, 15, 20, 512)   66048       activation_55[0][0]              \n",
      "____________________________________________________________________________________________________\n",
      "Bn3b_Branch2c (BatchNormalizatio (None, 15, 20, 512)   2048        Res3b_Branch2c[0][0]             \n",
      "____________________________________________________________________________________________________\n",
      "add_23 (Add)                     (None, 15, 20, 512)   0           Bn3b_Branch2c[0][0]              \n",
      "                                                                   activation_53[0][0]              \n",
      "____________________________________________________________________________________________________\n",
      "activation_56 (Activation)       (None, 15, 20, 512)   0           add_23[0][0]                     \n",
      "____________________________________________________________________________________________________\n",
      "Res3c_Branch2a (Conv2D)          (None, 15, 20, 128)   65664       activation_56[0][0]              \n",
      "____________________________________________________________________________________________________\n",
      "Bn3c_Branch2a (BatchNormalizatio (None, 15, 20, 128)   512         Res3c_Branch2a[0][0]             \n",
      "____________________________________________________________________________________________________\n",
      "activation_57 (Activation)       (None, 15, 20, 128)   0           Bn3c_Branch2a[0][0]              \n",
      "____________________________________________________________________________________________________\n",
      "Res3c_Branch2b (Conv2D)          (None, 15, 20, 128)   147584      activation_57[0][0]              \n",
      "____________________________________________________________________________________________________\n",
      "Bn3c_Branch2b (BatchNormalizatio (None, 15, 20, 128)   512         Res3c_Branch2b[0][0]             \n",
      "____________________________________________________________________________________________________\n",
      "activation_58 (Activation)       (None, 15, 20, 128)   0           Bn3c_Branch2b[0][0]              \n",
      "____________________________________________________________________________________________________\n",
      "Res3c_Branch2c (Conv2D)          (None, 15, 20, 512)   66048       activation_58[0][0]              \n",
      "____________________________________________________________________________________________________\n",
      "Bn3c_Branch2c (BatchNormalizatio (None, 15, 20, 512)   2048        Res3c_Branch2c[0][0]             \n",
      "____________________________________________________________________________________________________\n",
      "add_24 (Add)                     (None, 15, 20, 512)   0           Bn3c_Branch2c[0][0]              \n",
      "                                                                   activation_56[0][0]              \n",
      "____________________________________________________________________________________________________\n",
      "activation_59 (Activation)       (None, 15, 20, 512)   0           add_24[0][0]                     \n",
      "____________________________________________________________________________________________________\n",
      "Res3d_Branch2a (Conv2D)          (None, 15, 20, 128)   65664       activation_59[0][0]              \n",
      "____________________________________________________________________________________________________\n",
      "Bn3d_Branch2a (BatchNormalizatio (None, 15, 20, 128)   512         Res3d_Branch2a[0][0]             \n",
      "____________________________________________________________________________________________________\n",
      "activation_60 (Activation)       (None, 15, 20, 128)   0           Bn3d_Branch2a[0][0]              \n",
      "____________________________________________________________________________________________________\n",
      "Res3d_Branch2b (Conv2D)          (None, 15, 20, 128)   147584      activation_60[0][0]              \n",
      "____________________________________________________________________________________________________\n",
      "Bn3d_Branch2b (BatchNormalizatio (None, 15, 20, 128)   512         Res3d_Branch2b[0][0]             \n",
      "____________________________________________________________________________________________________\n",
      "activation_61 (Activation)       (None, 15, 20, 128)   0           Bn3d_Branch2b[0][0]              \n",
      "____________________________________________________________________________________________________\n",
      "Res3d_Branch2c (Conv2D)          (None, 15, 20, 512)   66048       activation_61[0][0]              \n",
      "____________________________________________________________________________________________________\n",
      "Bn3d_Branch2c (BatchNormalizatio (None, 15, 20, 512)   2048        Res3d_Branch2c[0][0]             \n",
      "____________________________________________________________________________________________________\n",
      "add_25 (Add)                     (None, 15, 20, 512)   0           Bn3d_Branch2c[0][0]              \n",
      "                                                                   activation_59[0][0]              \n",
      "____________________________________________________________________________________________________\n",
      "activation_62 (Activation)       (None, 15, 20, 512)   0           add_25[0][0]                     \n",
      "____________________________________________________________________________________________________\n",
      "Res4a_Branch2a (Conv2D)          (None, 8, 10, 256)    131328      activation_62[0][0]              \n",
      "____________________________________________________________________________________________________\n",
      "Bn4a_Branch2a (BatchNormalizatio (None, 8, 10, 256)    1024        Res4a_Branch2a[0][0]             \n",
      "____________________________________________________________________________________________________\n",
      "activation_63 (Activation)       (None, 8, 10, 256)    0           Bn4a_Branch2a[0][0]              \n",
      "____________________________________________________________________________________________________\n",
      "Res4a_Branch2b (Conv2D)          (None, 8, 10, 256)    590080      activation_63[0][0]              \n",
      "____________________________________________________________________________________________________\n",
      "Bn4a_Branch2b (BatchNormalizatio (None, 8, 10, 256)    1024        Res4a_Branch2b[0][0]             \n",
      "____________________________________________________________________________________________________\n",
      "activation_64 (Activation)       (None, 8, 10, 256)    0           Bn4a_Branch2b[0][0]              \n",
      "____________________________________________________________________________________________________\n",
      "Res4a_Branch2c (Conv2D)          (None, 8, 10, 1024)   263168      activation_64[0][0]              \n",
      "____________________________________________________________________________________________________\n",
      "Res4a_Branch1 (Conv2D)           (None, 8, 10, 1024)   525312      activation_62[0][0]              \n",
      "____________________________________________________________________________________________________\n",
      "Bn4a_Branch2c (BatchNormalizatio (None, 8, 10, 1024)   4096        Res4a_Branch2c[0][0]             \n",
      "____________________________________________________________________________________________________\n",
      "Bn4a_Branch1 (BatchNormalization (None, 8, 10, 1024)   4096        Res4a_Branch1[0][0]              \n",
      "____________________________________________________________________________________________________\n",
      "add_26 (Add)                     (None, 8, 10, 1024)   0           Bn4a_Branch2c[0][0]              \n",
      "                                                                   Bn4a_Branch1[0][0]               \n",
      "____________________________________________________________________________________________________\n",
      "activation_65 (Activation)       (None, 8, 10, 1024)   0           add_26[0][0]                     \n",
      "____________________________________________________________________________________________________\n",
      "Res4b_Branch2a (Conv2D)          (None, 8, 10, 256)    262400      activation_65[0][0]              \n",
      "____________________________________________________________________________________________________\n",
      "Bn4b_Branch2a (BatchNormalizatio (None, 8, 10, 256)    1024        Res4b_Branch2a[0][0]             \n",
      "____________________________________________________________________________________________________\n",
      "activation_66 (Activation)       (None, 8, 10, 256)    0           Bn4b_Branch2a[0][0]              \n",
      "____________________________________________________________________________________________________\n",
      "Res4b_Branch2b (Conv2D)          (None, 8, 10, 256)    590080      activation_66[0][0]              \n",
      "____________________________________________________________________________________________________\n",
      "Bn4b_Branch2b (BatchNormalizatio (None, 8, 10, 256)    1024        Res4b_Branch2b[0][0]             \n",
      "____________________________________________________________________________________________________\n",
      "activation_67 (Activation)       (None, 8, 10, 256)    0           Bn4b_Branch2b[0][0]              \n",
      "____________________________________________________________________________________________________\n",
      "Res4b_Branch2c (Conv2D)          (None, 8, 10, 1024)   263168      activation_67[0][0]              \n",
      "____________________________________________________________________________________________________\n",
      "Bn4b_Branch2c (BatchNormalizatio (None, 8, 10, 1024)   4096        Res4b_Branch2c[0][0]             \n",
      "____________________________________________________________________________________________________\n",
      "add_27 (Add)                     (None, 8, 10, 1024)   0           Bn4b_Branch2c[0][0]              \n",
      "                                                                   activation_65[0][0]              \n",
      "____________________________________________________________________________________________________\n",
      "activation_68 (Activation)       (None, 8, 10, 1024)   0           add_27[0][0]                     \n",
      "____________________________________________________________________________________________________\n",
      "Res4c_Branch2a (Conv2D)          (None, 8, 10, 256)    262400      activation_68[0][0]              \n",
      "____________________________________________________________________________________________________\n",
      "Bn4c_Branch2a (BatchNormalizatio (None, 8, 10, 256)    1024        Res4c_Branch2a[0][0]             \n",
      "____________________________________________________________________________________________________\n",
      "activation_69 (Activation)       (None, 8, 10, 256)    0           Bn4c_Branch2a[0][0]              \n",
      "____________________________________________________________________________________________________\n",
      "Res4c_Branch2b (Conv2D)          (None, 8, 10, 256)    590080      activation_69[0][0]              \n",
      "____________________________________________________________________________________________________\n",
      "Bn4c_Branch2b (BatchNormalizatio (None, 8, 10, 256)    1024        Res4c_Branch2b[0][0]             \n",
      "____________________________________________________________________________________________________\n",
      "activation_70 (Activation)       (None, 8, 10, 256)    0           Bn4c_Branch2b[0][0]              \n",
      "____________________________________________________________________________________________________\n",
      "Res4c_Branch2c (Conv2D)          (None, 8, 10, 1024)   263168      activation_70[0][0]              \n",
      "____________________________________________________________________________________________________\n",
      "Bn4c_Branch2c (BatchNormalizatio (None, 8, 10, 1024)   4096        Res4c_Branch2c[0][0]             \n",
      "____________________________________________________________________________________________________\n",
      "add_28 (Add)                     (None, 8, 10, 1024)   0           Bn4c_Branch2c[0][0]              \n",
      "                                                                   activation_68[0][0]              \n",
      "____________________________________________________________________________________________________\n",
      "activation_71 (Activation)       (None, 8, 10, 1024)   0           add_28[0][0]                     \n",
      "____________________________________________________________________________________________________\n",
      "Res4d_Branch2a (Conv2D)          (None, 8, 10, 256)    262400      activation_71[0][0]              \n",
      "____________________________________________________________________________________________________\n",
      "Bn4d_Branch2a (BatchNormalizatio (None, 8, 10, 256)    1024        Res4d_Branch2a[0][0]             \n",
      "____________________________________________________________________________________________________\n",
      "activation_72 (Activation)       (None, 8, 10, 256)    0           Bn4d_Branch2a[0][0]              \n",
      "____________________________________________________________________________________________________\n",
      "Res4d_Branch2b (Conv2D)          (None, 8, 10, 256)    590080      activation_72[0][0]              \n",
      "____________________________________________________________________________________________________\n",
      "Bn4d_Branch2b (BatchNormalizatio (None, 8, 10, 256)    1024        Res4d_Branch2b[0][0]             \n",
      "____________________________________________________________________________________________________\n",
      "activation_73 (Activation)       (None, 8, 10, 256)    0           Bn4d_Branch2b[0][0]              \n",
      "____________________________________________________________________________________________________\n",
      "Res4d_Branch2c (Conv2D)          (None, 8, 10, 1024)   263168      activation_73[0][0]              \n",
      "____________________________________________________________________________________________________\n",
      "Bn4d_Branch2c (BatchNormalizatio (None, 8, 10, 1024)   4096        Res4d_Branch2c[0][0]             \n",
      "____________________________________________________________________________________________________\n",
      "add_29 (Add)                     (None, 8, 10, 1024)   0           Bn4d_Branch2c[0][0]              \n",
      "                                                                   activation_71[0][0]              \n",
      "____________________________________________________________________________________________________\n",
      "activation_74 (Activation)       (None, 8, 10, 1024)   0           add_29[0][0]                     \n",
      "____________________________________________________________________________________________________\n",
      "Res4e_Branch2a (Conv2D)          (None, 8, 10, 256)    262400      activation_74[0][0]              \n",
      "____________________________________________________________________________________________________\n",
      "Bn4e_Branch2a (BatchNormalizatio (None, 8, 10, 256)    1024        Res4e_Branch2a[0][0]             \n",
      "____________________________________________________________________________________________________\n",
      "activation_75 (Activation)       (None, 8, 10, 256)    0           Bn4e_Branch2a[0][0]              \n",
      "____________________________________________________________________________________________________\n",
      "Res4e_Branch2b (Conv2D)          (None, 8, 10, 256)    590080      activation_75[0][0]              \n",
      "____________________________________________________________________________________________________\n",
      "Bn4e_Branch2b (BatchNormalizatio (None, 8, 10, 256)    1024        Res4e_Branch2b[0][0]             \n",
      "____________________________________________________________________________________________________\n",
      "activation_76 (Activation)       (None, 8, 10, 256)    0           Bn4e_Branch2b[0][0]              \n",
      "____________________________________________________________________________________________________\n",
      "Res4e_Branch2c (Conv2D)          (None, 8, 10, 1024)   263168      activation_76[0][0]              \n",
      "____________________________________________________________________________________________________\n",
      "Bn4e_Branch2c (BatchNormalizatio (None, 8, 10, 1024)   4096        Res4e_Branch2c[0][0]             \n",
      "____________________________________________________________________________________________________\n",
      "add_30 (Add)                     (None, 8, 10, 1024)   0           Bn4e_Branch2c[0][0]              \n",
      "                                                                   activation_74[0][0]              \n",
      "____________________________________________________________________________________________________\n",
      "activation_77 (Activation)       (None, 8, 10, 1024)   0           add_30[0][0]                     \n",
      "____________________________________________________________________________________________________\n",
      "Res4f_Branch2a (Conv2D)          (None, 8, 10, 256)    262400      activation_77[0][0]              \n",
      "____________________________________________________________________________________________________\n",
      "Bn4f_Branch2a (BatchNormalizatio (None, 8, 10, 256)    1024        Res4f_Branch2a[0][0]             \n",
      "____________________________________________________________________________________________________\n",
      "activation_78 (Activation)       (None, 8, 10, 256)    0           Bn4f_Branch2a[0][0]              \n",
      "____________________________________________________________________________________________________\n",
      "Res4f_Branch2b (Conv2D)          (None, 8, 10, 256)    590080      activation_78[0][0]              \n",
      "____________________________________________________________________________________________________\n",
      "Bn4f_Branch2b (BatchNormalizatio (None, 8, 10, 256)    1024        Res4f_Branch2b[0][0]             \n",
      "____________________________________________________________________________________________________\n",
      "activation_79 (Activation)       (None, 8, 10, 256)    0           Bn4f_Branch2b[0][0]              \n",
      "____________________________________________________________________________________________________\n",
      "Res4f_Branch2c (Conv2D)          (None, 8, 10, 1024)   263168      activation_79[0][0]              \n",
      "____________________________________________________________________________________________________\n",
      "Bn4f_Branch2c (BatchNormalizatio (None, 8, 10, 1024)   4096        Res4f_Branch2c[0][0]             \n",
      "____________________________________________________________________________________________________\n",
      "add_31 (Add)                     (None, 8, 10, 1024)   0           Bn4f_Branch2c[0][0]              \n",
      "                                                                   activation_77[0][0]              \n",
      "____________________________________________________________________________________________________\n",
      "activation_80 (Activation)       (None, 8, 10, 1024)   0           add_31[0][0]                     \n",
      "____________________________________________________________________________________________________\n",
      "Res5a_Branch2a (Conv2D)          (None, 4, 5, 512)     524800      activation_80[0][0]              \n",
      "____________________________________________________________________________________________________\n",
      "Bn5a_Branch2a (BatchNormalizatio (None, 4, 5, 512)     2048        Res5a_Branch2a[0][0]             \n",
      "____________________________________________________________________________________________________\n",
      "activation_81 (Activation)       (None, 4, 5, 512)     0           Bn5a_Branch2a[0][0]              \n",
      "____________________________________________________________________________________________________\n",
      "Res5a_Branch2b (Conv2D)          (None, 4, 5, 512)     2359808     activation_81[0][0]              \n",
      "____________________________________________________________________________________________________\n",
      "Bn5a_Branch2b (BatchNormalizatio (None, 4, 5, 512)     2048        Res5a_Branch2b[0][0]             \n",
      "____________________________________________________________________________________________________\n",
      "activation_82 (Activation)       (None, 4, 5, 512)     0           Bn5a_Branch2b[0][0]              \n",
      "____________________________________________________________________________________________________\n",
      "Res5a_Branch2c (Conv2D)          (None, 4, 5, 2048)    1050624     activation_82[0][0]              \n",
      "____________________________________________________________________________________________________\n",
      "Res5a_Branch1 (Conv2D)           (None, 4, 5, 2048)    2099200     activation_80[0][0]              \n",
      "____________________________________________________________________________________________________\n",
      "Bn5a_Branch2c (BatchNormalizatio (None, 4, 5, 2048)    8192        Res5a_Branch2c[0][0]             \n",
      "____________________________________________________________________________________________________\n",
      "Bn5a_Branch1 (BatchNormalization (None, 4, 5, 2048)    8192        Res5a_Branch1[0][0]              \n",
      "____________________________________________________________________________________________________\n",
      "add_32 (Add)                     (None, 4, 5, 2048)    0           Bn5a_Branch2c[0][0]              \n",
      "                                                                   Bn5a_Branch1[0][0]               \n",
      "____________________________________________________________________________________________________\n",
      "activation_83 (Activation)       (None, 4, 5, 2048)    0           add_32[0][0]                     \n",
      "____________________________________________________________________________________________________\n",
      "Res5b_Branch2a (Conv2D)          (None, 4, 5, 512)     1049088     activation_83[0][0]              \n",
      "____________________________________________________________________________________________________\n",
      "Bn5b_Branch2a (BatchNormalizatio (None, 4, 5, 512)     2048        Res5b_Branch2a[0][0]             \n",
      "____________________________________________________________________________________________________\n",
      "activation_84 (Activation)       (None, 4, 5, 512)     0           Bn5b_Branch2a[0][0]              \n",
      "____________________________________________________________________________________________________\n",
      "Res5b_Branch2b (Conv2D)          (None, 4, 5, 512)     2359808     activation_84[0][0]              \n",
      "____________________________________________________________________________________________________\n",
      "Bn5b_Branch2b (BatchNormalizatio (None, 4, 5, 512)     2048        Res5b_Branch2b[0][0]             \n",
      "____________________________________________________________________________________________________\n",
      "activation_85 (Activation)       (None, 4, 5, 512)     0           Bn5b_Branch2b[0][0]              \n",
      "____________________________________________________________________________________________________\n",
      "Res5b_Branch2c (Conv2D)          (None, 4, 5, 2048)    1050624     activation_85[0][0]              \n",
      "____________________________________________________________________________________________________\n",
      "Bn5b_Branch2c (BatchNormalizatio (None, 4, 5, 2048)    8192        Res5b_Branch2c[0][0]             \n",
      "____________________________________________________________________________________________________\n",
      "add_33 (Add)                     (None, 4, 5, 2048)    0           Bn5b_Branch2c[0][0]              \n",
      "                                                                   activation_83[0][0]              \n",
      "____________________________________________________________________________________________________\n",
      "activation_86 (Activation)       (None, 4, 5, 2048)    0           add_33[0][0]                     \n",
      "____________________________________________________________________________________________________\n",
      "Res5c_Branch2a (Conv2D)          (None, 4, 5, 512)     1049088     activation_86[0][0]              \n",
      "____________________________________________________________________________________________________\n",
      "Bn5c_Branch2a (BatchNormalizatio (None, 4, 5, 512)     2048        Res5c_Branch2a[0][0]             \n",
      "____________________________________________________________________________________________________\n",
      "activation_87 (Activation)       (None, 4, 5, 512)     0           Bn5c_Branch2a[0][0]              \n",
      "____________________________________________________________________________________________________\n",
      "Res5c_Branch2b (Conv2D)          (None, 4, 5, 512)     2359808     activation_87[0][0]              \n",
      "____________________________________________________________________________________________________\n",
      "Bn5c_Branch2b (BatchNormalizatio (None, 4, 5, 512)     2048        Res5c_Branch2b[0][0]             \n",
      "____________________________________________________________________________________________________\n",
      "activation_88 (Activation)       (None, 4, 5, 512)     0           Bn5c_Branch2b[0][0]              \n",
      "____________________________________________________________________________________________________\n",
      "Res5c_Branch2c (Conv2D)          (None, 4, 5, 2048)    1050624     activation_88[0][0]              \n",
      "____________________________________________________________________________________________________\n",
      "Bn5c_Branch2c (BatchNormalizatio (None, 4, 5, 2048)    8192        Res5c_Branch2c[0][0]             \n",
      "____________________________________________________________________________________________________\n",
      "add_34 (Add)                     (None, 4, 5, 2048)    0           Bn5c_Branch2c[0][0]              \n",
      "                                                                   activation_86[0][0]              \n",
      "____________________________________________________________________________________________________\n",
      "activation_89 (Activation)       (None, 4, 5, 2048)    0           add_34[0][0]                     \n",
      "____________________________________________________________________________________________________\n",
      "avg_pool (AveragePooling2D)      (None, 2, 2, 2048)    0           activation_89[0][0]              \n",
      "____________________________________________________________________________________________________\n",
      "flatten_4 (Flatten)              (None, 8192)          0           avg_pool[0][0]                   \n",
      "____________________________________________________________________________________________________\n",
      "fc10 (Dense)                     (None, 10)            81930       flatten_4[0][0]                  \n",
      "====================================================================================================\n",
      "Total params: 23,669,642\n",
      "Trainable params: 23,616,522\n",
      "Non-trainable params: 53,120\n",
      "____________________________________________________________________________________________________\n"
     ]
    }
   ],
   "source": [
    "model.summary()"
   ]
  },
  {
   "cell_type": "code",
   "execution_count": 64,
   "metadata": {
    "_uuid": "7cc860e74e53da4c29fe95f50355337e41ae73e6"
   },
   "outputs": [
    {
     "name": "stdout",
     "output_type": "stream",
     "text": [
      "7400/7400 [==============================] - 45s    \n"
     ]
    },
    {
     "data": {
      "text/plain": [
       "[14.495395052110826, 0.10067567567567567]"
      ]
     },
     "execution_count": 64,
     "metadata": {},
     "output_type": "execute_result"
    }
   ],
   "source": [
    "# TRAIN MODEL\n",
    "# Evaluate Accuracy of Untrained Model\n",
    "model.evaluate(x_test,y_test)"
   ]
  },
  {
   "cell_type": "code",
   "execution_count": 65,
   "metadata": {
    "_uuid": "fee0b9c9deabb847b592944abe3565b23e6ed486"
   },
   "outputs": [
    {
     "name": "stdout",
     "output_type": "stream",
     "text": [
      "Train on 15024 samples, validate on 7400 samples\n",
      "Epoch 1/10\n",
      "15024/15024 [==============================] - 359s - loss: 1.9739 - acc: 0.4631 - val_loss: 1.0618 - val_acc: 0.6827\n",
      "Epoch 2/10\n",
      "15024/15024 [==============================] - 358s - loss: 0.2356 - acc: 0.9289 - val_loss: 0.1585 - val_acc: 0.9543\n",
      "Epoch 3/10\n",
      "15024/15024 [==============================] - 358s - loss: 0.1259 - acc: 0.9607 - val_loss: 0.1227 - val_acc: 0.9658\n",
      "Epoch 4/10\n",
      "15024/15024 [==============================] - 358s - loss: 0.1407 - acc: 0.9579 - val_loss: 0.1148 - val_acc: 0.9666\n",
      "Epoch 5/10\n",
      "15024/15024 [==============================] - 357s - loss: 0.0689 - acc: 0.9795 - val_loss: 0.1241 - val_acc: 0.9649\n",
      "Epoch 6/10\n",
      "15024/15024 [==============================] - 357s - loss: 0.0721 - acc: 0.9791 - val_loss: 0.1135 - val_acc: 0.9674\n",
      "Epoch 7/10\n",
      "15024/15024 [==============================] - 357s - loss: 0.0617 - acc: 0.9821 - val_loss: 0.1358 - val_acc: 0.9588\n",
      "Epoch 8/10\n",
      "15024/15024 [==============================] - 357s - loss: 0.0497 - acc: 0.9843 - val_loss: 0.2883 - val_acc: 0.9272\n",
      "Epoch 9/10\n",
      "15024/15024 [==============================] - 358s - loss: 0.0456 - acc: 0.9878 - val_loss: 0.0700 - val_acc: 0.9822\n",
      "Epoch 10/10\n",
      "15024/15024 [==============================] - 358s - loss: 0.0460 - acc: 0.9852 - val_loss: 0.1379 - val_acc: 0.9686\n"
     ]
    },
    {
     "data": {
      "text/plain": [
       "<keras.callbacks.History at 0x7fa771639438>"
      ]
     },
     "execution_count": 65,
     "metadata": {},
     "output_type": "execute_result"
    }
   ],
   "source": [
    "# TRAIN MODEL\n",
    "# Train and Validate Model\n",
    "model.fit(x_train, y_train, batch_size=16, epochs=10, validation_data=(x_test, y_test))"
   ]
  },
  {
   "cell_type": "code",
   "execution_count": 66,
   "metadata": {
    "_uuid": "617172207258c298d20ecaf5f9799f3b1ba4626e"
   },
   "outputs": [
    {
     "name": "stdout",
     "output_type": "stream",
     "text": [
      "7400/7400 [==============================] - 45s    \n"
     ]
    },
    {
     "data": {
      "text/plain": [
       "[0.13789236312581074, 0.9686486486486486]"
      ]
     },
     "execution_count": 66,
     "metadata": {},
     "output_type": "execute_result"
    }
   ],
   "source": [
    "# TRAIN MODEL\n",
    "# Evaluate Model\n",
    "model.evaluate(x_test, y_test)"
   ]
  },
  {
   "cell_type": "code",
   "execution_count": 67,
   "metadata": {
    "_uuid": "92d9097fd283c198756f7e5ca4f43cae33b391d6"
   },
   "outputs": [],
   "source": [
    "# TRAIN MODEL\n",
    "# Save the Model\n",
    "model_json = model.to_json()\n",
    "with open(\"model.json\", \"w\") as json_file:\n",
    "    json_file.write(model_json)\n",
    "    \n",
    "# Serialize Weights to HDF5\n",
    "model.save_weights(\"weights.h5\")"
   ]
  },
  {
   "cell_type": "code",
   "execution_count": 75,
   "metadata": {},
   "outputs": [
    {
     "name": "stdout",
     "output_type": "stream",
     "text": [
      "Result: [[0. 1. 0. 0. 0. 0. 0. 0. 0. 0.]]\n"
     ]
    },
    {
     "data": {
      "image/png": "[encoded data removed]",
      "text/plain": [
       "<Figure size 432x288 with 1 Axes>"
      ]
     },
     "metadata": {
      "needs_background": "light"
     },
     "output_type": "display_data"
    }
   ],
   "source": [
    "# TRAIN MODEL\n",
    "# Test Model\n",
    "plt.imshow(x_test[11])\n",
    "print(\"Result:\", np.around(model.predict(x_test[11:12])))"
   ]
  },
  {
   "cell_type": "code",
   "execution_count": null,
   "metadata": {},
   "outputs": [],
   "source": []
  }
 ],
 "metadata": {
  "kernelspec": {
   "display_name": "Python 3",
   "language": "python",
   "name": "python3"
  },
  "language_info": {
   "codemirror_mode": {
    "name": "ipython",
    "version": 3
   },
   "file_extension": ".py",
   "mimetype": "text/x-python",
   "name": "python",
   "nbconvert_exporter": "python",
   "pygments_lexer": "ipython3",
   "version": "3.5.2"
  }
 },
 "nbformat": 4,
 "nbformat_minor": 1
}
